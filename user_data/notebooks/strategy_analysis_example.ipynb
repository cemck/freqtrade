{
 "cells": [
  {
   "attachments": {},
   "cell_type": "markdown",
   "metadata": {},
   "source": [
    "# Strategy analysis example\n",
    "\n",
    "Debugging a strategy can be time-consuming. Freqtrade offers helper functions to visualize raw data.\n",
    "The following assumes you work with SampleStrategy, data for 5m timeframe from Binance and have downloaded them into the data directory in the default location.\n",
    "Please follow the [documentation](https://www.freqtrade.io/en/stable/data-download/) for more details."
   ]
  },
  {
   "attachments": {},
   "cell_type": "markdown",
   "metadata": {},
   "source": [
    "## Setup\n",
    "\n",
    "### Change Working directory to repository root"
   ]
  },
  {
   "cell_type": "code",
   "execution_count": 19,
   "metadata": {},
   "outputs": [
    {
     "name": "stdout",
     "output_type": "stream",
     "text": [
      "/Users/cemck/Documents/Trading/freqtrade\n"
     ]
    }
   ],
   "source": [
    "import os\n",
    "from pathlib import Path\n",
    "\n",
    "# Change directory\n",
    "# Modify this cell to insure that the output shows the correct path.\n",
    "# Define all paths relative to the project root shown in the cell output\n",
    "project_root = \"somedir/freqtrade\"\n",
    "i=0\n",
    "try:\n",
    "    os.chdirdir(project_root)\n",
    "    assert Path('LICENSE').is_file()\n",
    "except:\n",
    "    while i<4 and (not Path('LICENSE').is_file()):\n",
    "        os.chdir(Path(Path.cwd(), '../'))\n",
    "        i+=1\n",
    "    project_root = Path.cwd()\n",
    "print(Path.cwd())"
   ]
  },
  {
   "attachments": {},
   "cell_type": "markdown",
   "metadata": {},
   "source": [
    "### Configure Freqtrade environment"
   ]
  },
  {
   "cell_type": "code",
   "execution_count": 20,
   "metadata": {},
   "outputs": [
    {
     "name": "stdout",
     "output_type": "stream",
     "text": [
      "/Users/cemck/Documents/Trading/freqtrade/user_data/data/bitget\n"
     ]
    }
   ],
   "source": [
    "from freqtrade.configuration import Configuration\n",
    "\n",
    "# Customize these according to your needs.\n",
    "\n",
    "# Initialize empty configuration object\n",
    "#config = Configuration.from_files([])\n",
    "# Optionally (recommended), use existing configuration file\n",
    "config = Configuration.from_files([str(project_root)+\"/config.json\"])\n",
    "\n",
    "# Define some constants\n",
    "config[\"timeframe\"] = \"1m\"\n",
    "# Name of the strategy class\n",
    "config[\"strategy\"] = \"SampleStrategy\"\n",
    "# Location of the data\n",
    "data_location = config[\"datadir\"]\n",
    "print(data_location)\n",
    "# Pair to analyze - Only use one pair here\n",
    "pair = \"BTC/USDT:USDT\""
   ]
  },
  {
   "cell_type": "code",
   "execution_count": 24,
   "metadata": {},
   "outputs": [
    {
     "name": "stdout",
     "output_type": "stream",
     "text": [
      "Loaded 43239 rows of data for BTC/USDT:USDT from /Users/cemck/Documents/Trading/freqtrade/user_data/data/bitget\n"
     ]
    },
    {
     "data": {
      "text/html": [
       "<div>\n",
       "<style scoped>\n",
       "    .dataframe tbody tr th:only-of-type {\n",
       "        vertical-align: middle;\n",
       "    }\n",
       "\n",
       "    .dataframe tbody tr th {\n",
       "        vertical-align: top;\n",
       "    }\n",
       "\n",
       "    .dataframe thead th {\n",
       "        text-align: right;\n",
       "    }\n",
       "</style>\n",
       "<table border=\"1\" class=\"dataframe\">\n",
       "  <thead>\n",
       "    <tr style=\"text-align: right;\">\n",
       "      <th></th>\n",
       "      <th>date</th>\n",
       "      <th>open</th>\n",
       "      <th>high</th>\n",
       "      <th>low</th>\n",
       "      <th>close</th>\n",
       "      <th>volume</th>\n",
       "    </tr>\n",
       "  </thead>\n",
       "  <tbody>\n",
       "    <tr>\n",
       "      <th>43234</th>\n",
       "      <td>2023-06-24 00:03:00+00:00</td>\n",
       "      <td>30639.0</td>\n",
       "      <td>30651.0</td>\n",
       "      <td>30631.0</td>\n",
       "      <td>30650.0</td>\n",
       "      <td>66.867</td>\n",
       "    </tr>\n",
       "    <tr>\n",
       "      <th>43235</th>\n",
       "      <td>2023-06-24 00:04:00+00:00</td>\n",
       "      <td>30650.0</td>\n",
       "      <td>30656.5</td>\n",
       "      <td>30634.5</td>\n",
       "      <td>30640.5</td>\n",
       "      <td>38.677</td>\n",
       "    </tr>\n",
       "    <tr>\n",
       "      <th>43236</th>\n",
       "      <td>2023-06-24 00:05:00+00:00</td>\n",
       "      <td>30640.5</td>\n",
       "      <td>30641.0</td>\n",
       "      <td>30612.5</td>\n",
       "      <td>30624.5</td>\n",
       "      <td>64.900</td>\n",
       "    </tr>\n",
       "    <tr>\n",
       "      <th>43237</th>\n",
       "      <td>2023-06-24 00:06:00+00:00</td>\n",
       "      <td>30624.5</td>\n",
       "      <td>30681.0</td>\n",
       "      <td>30624.5</td>\n",
       "      <td>30680.5</td>\n",
       "      <td>85.898</td>\n",
       "    </tr>\n",
       "    <tr>\n",
       "      <th>43238</th>\n",
       "      <td>2023-06-24 00:07:00+00:00</td>\n",
       "      <td>30680.5</td>\n",
       "      <td>30700.0</td>\n",
       "      <td>30672.5</td>\n",
       "      <td>30689.0</td>\n",
       "      <td>110.516</td>\n",
       "    </tr>\n",
       "  </tbody>\n",
       "</table>\n",
       "</div>"
      ],
      "text/plain": [
       "                           date     open     high      low    close   volume\n",
       "43234 2023-06-24 00:03:00+00:00  30639.0  30651.0  30631.0  30650.0   66.867\n",
       "43235 2023-06-24 00:04:00+00:00  30650.0  30656.5  30634.5  30640.5   38.677\n",
       "43236 2023-06-24 00:05:00+00:00  30640.5  30641.0  30612.5  30624.5   64.900\n",
       "43237 2023-06-24 00:06:00+00:00  30624.5  30681.0  30624.5  30680.5   85.898\n",
       "43238 2023-06-24 00:07:00+00:00  30680.5  30700.0  30672.5  30689.0  110.516"
      ]
     },
     "execution_count": 24,
     "metadata": {},
     "output_type": "execute_result"
    }
   ],
   "source": [
    "# Load data using values set above\n",
    "from freqtrade.data.history import load_pair_history\n",
    "from freqtrade.enums import CandleType\n",
    "\n",
    "candles = load_pair_history(datadir=data_location,\n",
    "                            timeframe=config[\"timeframe\"],\n",
    "                            pair=pair,\n",
    "                            data_format = \"json\",  # Make sure to update this to your data\n",
    "                            candle_type=CandleType.FUTURES,\n",
    "                            )\n",
    "\n",
    "# Confirm success\n",
    "print(f\"Loaded {len(candles)} rows of data for {pair} from {data_location}\")\n",
    "candles.tail()"
   ]
  },
  {
   "attachments": {},
   "cell_type": "markdown",
   "metadata": {},
   "source": [
    "#### OBV RSI"
   ]
  },
  {
   "cell_type": "code",
   "execution_count": 25,
   "metadata": {},
   "outputs": [
    {
     "data": {
      "text/html": [
       "<div>\n",
       "<style scoped>\n",
       "    .dataframe tbody tr th:only-of-type {\n",
       "        vertical-align: middle;\n",
       "    }\n",
       "\n",
       "    .dataframe tbody tr th {\n",
       "        vertical-align: top;\n",
       "    }\n",
       "\n",
       "    .dataframe thead th {\n",
       "        text-align: right;\n",
       "    }\n",
       "</style>\n",
       "<table border=\"1\" class=\"dataframe\">\n",
       "  <thead>\n",
       "    <tr style=\"text-align: right;\">\n",
       "      <th></th>\n",
       "      <th>date</th>\n",
       "      <th>open</th>\n",
       "      <th>high</th>\n",
       "      <th>low</th>\n",
       "      <th>close</th>\n",
       "      <th>volume</th>\n",
       "      <th>obv</th>\n",
       "      <th>change_1</th>\n",
       "      <th>obv_change</th>\n",
       "      <th>max_obv_change</th>\n",
       "      <th>min_obv_change</th>\n",
       "      <th>up</th>\n",
       "      <th>down</th>\n",
       "      <th>rsi</th>\n",
       "    </tr>\n",
       "  </thead>\n",
       "  <tbody>\n",
       "    <tr>\n",
       "      <th>43234</th>\n",
       "      <td>2023-06-24 00:03:00+00:00</td>\n",
       "      <td>30639.0</td>\n",
       "      <td>30651.0</td>\n",
       "      <td>30631.0</td>\n",
       "      <td>30650.0</td>\n",
       "      <td>66.867</td>\n",
       "      <td>36641.868</td>\n",
       "      <td>11.0</td>\n",
       "      <td>66.867</td>\n",
       "      <td>66.867</td>\n",
       "      <td>0.000</td>\n",
       "      <td>41.390</td>\n",
       "      <td>43.630</td>\n",
       "      <td>48.683</td>\n",
       "    </tr>\n",
       "    <tr>\n",
       "      <th>43235</th>\n",
       "      <td>2023-06-24 00:04:00+00:00</td>\n",
       "      <td>30650.0</td>\n",
       "      <td>30656.5</td>\n",
       "      <td>30634.5</td>\n",
       "      <td>30640.5</td>\n",
       "      <td>38.677</td>\n",
       "      <td>36603.191</td>\n",
       "      <td>-9.5</td>\n",
       "      <td>-38.677</td>\n",
       "      <td>0.000</td>\n",
       "      <td>38.677</td>\n",
       "      <td>33.112</td>\n",
       "      <td>42.639</td>\n",
       "      <td>43.711</td>\n",
       "    </tr>\n",
       "    <tr>\n",
       "      <th>43236</th>\n",
       "      <td>2023-06-24 00:05:00+00:00</td>\n",
       "      <td>30640.5</td>\n",
       "      <td>30641.0</td>\n",
       "      <td>30612.5</td>\n",
       "      <td>30624.5</td>\n",
       "      <td>64.900</td>\n",
       "      <td>36538.291</td>\n",
       "      <td>-16.0</td>\n",
       "      <td>-64.900</td>\n",
       "      <td>0.000</td>\n",
       "      <td>64.900</td>\n",
       "      <td>26.489</td>\n",
       "      <td>47.091</td>\n",
       "      <td>36.001</td>\n",
       "    </tr>\n",
       "    <tr>\n",
       "      <th>43237</th>\n",
       "      <td>2023-06-24 00:06:00+00:00</td>\n",
       "      <td>30624.5</td>\n",
       "      <td>30681.0</td>\n",
       "      <td>30624.5</td>\n",
       "      <td>30680.5</td>\n",
       "      <td>85.898</td>\n",
       "      <td>36624.189</td>\n",
       "      <td>56.0</td>\n",
       "      <td>85.898</td>\n",
       "      <td>85.898</td>\n",
       "      <td>0.000</td>\n",
       "      <td>38.371</td>\n",
       "      <td>37.673</td>\n",
       "      <td>50.459</td>\n",
       "    </tr>\n",
       "    <tr>\n",
       "      <th>43238</th>\n",
       "      <td>2023-06-24 00:07:00+00:00</td>\n",
       "      <td>30680.5</td>\n",
       "      <td>30700.0</td>\n",
       "      <td>30672.5</td>\n",
       "      <td>30689.0</td>\n",
       "      <td>110.516</td>\n",
       "      <td>36734.705</td>\n",
       "      <td>8.5</td>\n",
       "      <td>110.516</td>\n",
       "      <td>110.516</td>\n",
       "      <td>0.000</td>\n",
       "      <td>52.800</td>\n",
       "      <td>30.138</td>\n",
       "      <td>63.662</td>\n",
       "    </tr>\n",
       "  </tbody>\n",
       "</table>\n",
       "</div>"
      ],
      "text/plain": [
       "                           date     open     high      low    close   volume   \n",
       "43234 2023-06-24 00:03:00+00:00  30639.0  30651.0  30631.0  30650.0   66.867  \\\n",
       "43235 2023-06-24 00:04:00+00:00  30650.0  30656.5  30634.5  30640.5   38.677   \n",
       "43236 2023-06-24 00:05:00+00:00  30640.5  30641.0  30612.5  30624.5   64.900   \n",
       "43237 2023-06-24 00:06:00+00:00  30624.5  30681.0  30624.5  30680.5   85.898   \n",
       "43238 2023-06-24 00:07:00+00:00  30680.5  30700.0  30672.5  30689.0  110.516   \n",
       "\n",
       "             obv  change_1  obv_change  max_obv_change  min_obv_change   \n",
       "43234  36641.868      11.0      66.867          66.867           0.000  \\\n",
       "43235  36603.191      -9.5     -38.677           0.000          38.677   \n",
       "43236  36538.291     -16.0     -64.900           0.000          64.900   \n",
       "43237  36624.189      56.0      85.898          85.898           0.000   \n",
       "43238  36734.705       8.5     110.516         110.516           0.000   \n",
       "\n",
       "           up    down     rsi  \n",
       "43234  41.390  43.630  48.683  \n",
       "43235  33.112  42.639  43.711  \n",
       "43236  26.489  47.091  36.001  \n",
       "43237  38.371  37.673  50.459  \n",
       "43238  52.800  30.138  63.662  "
      ]
     },
     "execution_count": 25,
     "metadata": {},
     "output_type": "execute_result"
    }
   ],
   "source": [
    "import numpy as np\n",
    "import talib.abstract as ta\n",
    "from technical import qtpylib\n",
    "import pandas as pd\n",
    "import pandas_ta as pandas_ta\n",
    "import talib as ta\n",
    "\n",
    "rsi_length = 5\n",
    "pd.set_option(\"display.precision\", 3)\n",
    "\n",
    "# https://stackoverflow.com/a/66827219\n",
    "candles['obv'] = (np.sign(candles['close'].diff()) * candles['volume']).fillna(0).cumsum()\n",
    "\n",
    "candles['change_1'] = candles['close'].diff()\n",
    "candles['obv_change'] = candles['obv'].diff()\n",
    "# obv = np.where(candles['change_1'] > 0, candles['volume'], np.where(candles['change_1'] < 0, -candles['volume'], 0))\n",
    "\n",
    "#candles['obv'] = ta.OBV(candles)\n",
    "#candles['obv_rsi'] = ta.RSI(candles['obv'], length=rsi_length)\n",
    "#num_rows, num_cols = candles.shape\n",
    "#print(num_rows, num_cols)\n",
    "\n",
    "def cum(source):\n",
    "    for i in range(len(source)):\n",
    "        _cum += source[i]\n",
    "        return _cum\n",
    "\n",
    "# def obv(df) -> list:\n",
    "#     obv_list = []\n",
    "#     for row in df.iterrows():\n",
    "#         _obv = None\n",
    "#         # print(row)\n",
    "#         vol = row[1]['volume']\n",
    "#         change_1 = row[1]['change_1']\n",
    "#         print(\"vol: \" + str(vol))\n",
    "#         print(\"change_1: \" + str(change_1))\n",
    "#         if change_1 > 0:\n",
    "#             _obv = vol\n",
    "#         elif change_1 < 0:\n",
    "#             _obv = -vol\n",
    "#         else:\n",
    "#             _obv = 0*vol\n",
    "#         print(\"obv :\" + str(_obv))\n",
    "#         obv_list.append(_obv)\n",
    "#     return obv_list\n",
    "\n",
    "# obv_list = obv(df)\n",
    "# print(obv_list)\n",
    "# li = np.cumsum(obv_list)\n",
    "# print(li)\n",
    "# candles.head()\n",
    "# df2 = candles.tail(rsi_length)\n",
    "\n",
    "# print(df2['obv_change'])\n",
    "\n",
    "# print(df2)\n",
    "# c = candles['obv_change'].tail(rsi_length)\n",
    "# print(c)\n",
    "\n",
    "# print(np.amax(c))\n",
    "candles['max_obv_change'] = candles['obv_change']\n",
    "candles['min_obv_change'] = candles['obv_change']\n",
    "\n",
    "candles['max_obv_change'] = candles['max_obv_change'].clip(lower=0)\n",
    "candles['min_obv_change'] = candles['min_obv_change'].clip(upper=0).abs()\n",
    "\n",
    "def smoothing(prices: pd.Series, smoothing_type, smoothing_period) -> pd.Series:\n",
    "        if smoothing_type == 'sma':\n",
    "            return ta.SMA(prices, smoothing_period)\n",
    "        elif smoothing_type == 'ema':\n",
    "            return ta.EMA(prices, smoothing_period)\n",
    "        elif smoothing_type == 'rma':\n",
    "            return pandas_ta.rma(prices, smoothing_period)\n",
    "        elif smoothing_type is None:\n",
    "            return prices\n",
    "    \n",
    "def runRMA(df, column) -> pd.Series:\n",
    "    atr = smoothing(df[column], 'rma', rsi_length)\n",
    "    return atr\n",
    "\n",
    "candles['up'] = runRMA(candles, 'max_obv_change')\n",
    "candles['down'] = runRMA(candles, 'min_obv_change')\n",
    "# obv = np.where(candles['change_1'] > 0, candles['volume'], np.where(candles['change_1'] < 0, -candles['volume'], 0))\n",
    "\n",
    "candles['rsi'] = np.where(candles['down'] == 0, 100, np.where(candles['up'] == 0, 0, 100 - 100/(1 + candles['up']/candles['down'])))\n",
    "\n",
    "candles.tail()"
   ]
  },
  {
   "attachments": {},
   "cell_type": "markdown",
   "metadata": {},
   "source": [
    "#### VWAP Deviation"
   ]
  },
  {
   "cell_type": "code",
   "execution_count": 32,
   "metadata": {},
   "outputs": [
    {
     "ename": "ValueError",
     "evalue": "Length of weights not compatible with specified axis.",
     "output_type": "error",
     "traceback": [
      "\u001b[0;31m---------------------------------------------------------------------------\u001b[0m",
      "\u001b[0;31mValueError\u001b[0m                                Traceback (most recent call last)",
      "Cell \u001b[0;32mIn[32], line 20\u001b[0m\n\u001b[1;32m     14\u001b[0m rolling_vwmean \u001b[39m=\u001b[39m (candles[\u001b[39m'\u001b[39m\u001b[39mclose\u001b[39m\u001b[39m'\u001b[39m] \u001b[39m*\u001b[39m candles[\u001b[39m'\u001b[39m\u001b[39mvolume\u001b[39m\u001b[39m'\u001b[39m])\u001b[39m.\u001b[39mrolling(window\u001b[39m=\u001b[39m\u001b[39m60\u001b[39m)\u001b[39m.\u001b[39msum() \u001b[39m/\u001b[39m candles[\u001b[39m'\u001b[39m\u001b[39mvolume\u001b[39m\u001b[39m'\u001b[39m]\u001b[39m.\u001b[39mrolling(window\u001b[39m=\u001b[39m\u001b[39m60\u001b[39m)\u001b[39m.\u001b[39msum()\n\u001b[1;32m     16\u001b[0m rolling_vwap_std \u001b[39m=\u001b[39m candles[\u001b[39m'\u001b[39m\u001b[39mclose\u001b[39m\u001b[39m'\u001b[39m]\u001b[39m.\u001b[39mrolling(window\u001b[39m=\u001b[39m\u001b[39m60\u001b[39m)\u001b[39m.\u001b[39mapply(\n\u001b[1;32m     17\u001b[0m     \u001b[39mlambda\u001b[39;00m x: np\u001b[39m.\u001b[39msqrt(np\u001b[39m.\u001b[39maverage((x \u001b[39m-\u001b[39m np\u001b[39m.\u001b[39maverage(x, weights\u001b[39m=\u001b[39mcandles\u001b[39m.\u001b[39mloc[x\u001b[39m.\u001b[39mindex, \u001b[39m'\u001b[39m\u001b[39mvolume\u001b[39m\u001b[39m'\u001b[39m]))\u001b[39m*\u001b[39m\u001b[39m*\u001b[39m\u001b[39m2\u001b[39m, weights\u001b[39m=\u001b[39mcandles\u001b[39m.\u001b[39mloc[x\u001b[39m.\u001b[39mindex, \u001b[39m'\u001b[39m\u001b[39mvolume\u001b[39m\u001b[39m'\u001b[39m]))\n\u001b[1;32m     18\u001b[0m )\n\u001b[0;32m---> 20\u001b[0m rolling_vwap_av_std \u001b[39m=\u001b[39m candles[\u001b[39m'\u001b[39;49m\u001b[39mclose\u001b[39;49m\u001b[39m'\u001b[39;49m]\u001b[39m.\u001b[39;49mrolling(window\u001b[39m=\u001b[39;49m\u001b[39m60\u001b[39;49m)\u001b[39m.\u001b[39;49mapply(\n\u001b[1;32m     21\u001b[0m     \u001b[39mlambda\u001b[39;49;00m x: np\u001b[39m.\u001b[39;49maverage(np\u001b[39m.\u001b[39;49mabs(x \u001b[39m-\u001b[39;49m rolling_vwmean), weights\u001b[39m=\u001b[39;49mcandles\u001b[39m.\u001b[39;49mloc[x\u001b[39m.\u001b[39;49mindex, \u001b[39m'\u001b[39;49m\u001b[39mvolume\u001b[39;49m\u001b[39m'\u001b[39;49m], axis\u001b[39m=\u001b[39;49m\u001b[39m0\u001b[39;49m)\n\u001b[1;32m     22\u001b[0m )\n\u001b[1;32m     24\u001b[0m candles[\u001b[39m'\u001b[39m\u001b[39mvwmean\u001b[39m\u001b[39m'\u001b[39m] \u001b[39m=\u001b[39m rolling_vwmean\n\u001b[1;32m     25\u001b[0m candles[\u001b[39m'\u001b[39m\u001b[39mvwstdev\u001b[39m\u001b[39m'\u001b[39m] \u001b[39m=\u001b[39m rolling_vwap_std\n",
      "File \u001b[0;32m~/Documents/Trading/freqtrade/.env/lib/python3.11/site-packages/pandas/core/window/rolling.py:1913\u001b[0m, in \u001b[0;36mRolling.apply\u001b[0;34m(self, func, raw, engine, engine_kwargs, args, kwargs)\u001b[0m\n\u001b[1;32m   1892\u001b[0m \u001b[39m@doc\u001b[39m(\n\u001b[1;32m   1893\u001b[0m     template_header,\n\u001b[1;32m   1894\u001b[0m     create_section_header(\u001b[39m\"\u001b[39m\u001b[39mParameters\u001b[39m\u001b[39m\"\u001b[39m),\n\u001b[0;32m   (...)\u001b[0m\n\u001b[1;32m   1911\u001b[0m     kwargs: \u001b[39mdict\u001b[39m[\u001b[39mstr\u001b[39m, Any] \u001b[39m|\u001b[39m \u001b[39mNone\u001b[39;00m \u001b[39m=\u001b[39m \u001b[39mNone\u001b[39;00m,\n\u001b[1;32m   1912\u001b[0m ):\n\u001b[0;32m-> 1913\u001b[0m     \u001b[39mreturn\u001b[39;00m \u001b[39msuper\u001b[39;49m()\u001b[39m.\u001b[39;49mapply(\n\u001b[1;32m   1914\u001b[0m         func,\n\u001b[1;32m   1915\u001b[0m         raw\u001b[39m=\u001b[39;49mraw,\n\u001b[1;32m   1916\u001b[0m         engine\u001b[39m=\u001b[39;49mengine,\n\u001b[1;32m   1917\u001b[0m         engine_kwargs\u001b[39m=\u001b[39;49mengine_kwargs,\n\u001b[1;32m   1918\u001b[0m         args\u001b[39m=\u001b[39;49margs,\n\u001b[1;32m   1919\u001b[0m         kwargs\u001b[39m=\u001b[39;49mkwargs,\n\u001b[1;32m   1920\u001b[0m     )\n",
      "File \u001b[0;32m~/Documents/Trading/freqtrade/.env/lib/python3.11/site-packages/pandas/core/window/rolling.py:1390\u001b[0m, in \u001b[0;36mRollingAndExpandingMixin.apply\u001b[0;34m(self, func, raw, engine, engine_kwargs, args, kwargs)\u001b[0m\n\u001b[1;32m   1387\u001b[0m \u001b[39melse\u001b[39;00m:\n\u001b[1;32m   1388\u001b[0m     \u001b[39mraise\u001b[39;00m \u001b[39mValueError\u001b[39;00m(\u001b[39m\"\u001b[39m\u001b[39mengine must be either \u001b[39m\u001b[39m'\u001b[39m\u001b[39mnumba\u001b[39m\u001b[39m'\u001b[39m\u001b[39m or \u001b[39m\u001b[39m'\u001b[39m\u001b[39mcython\u001b[39m\u001b[39m'\u001b[39m\u001b[39m\"\u001b[39m)\n\u001b[0;32m-> 1390\u001b[0m \u001b[39mreturn\u001b[39;00m \u001b[39mself\u001b[39;49m\u001b[39m.\u001b[39;49m_apply(\n\u001b[1;32m   1391\u001b[0m     apply_func,\n\u001b[1;32m   1392\u001b[0m     name\u001b[39m=\u001b[39;49m\u001b[39m\"\u001b[39;49m\u001b[39mapply\u001b[39;49m\u001b[39m\"\u001b[39;49m,\n\u001b[1;32m   1393\u001b[0m     numba_args\u001b[39m=\u001b[39;49mnumba_args,\n\u001b[1;32m   1394\u001b[0m )\n",
      "File \u001b[0;32m~/Documents/Trading/freqtrade/.env/lib/python3.11/site-packages/pandas/core/window/rolling.py:615\u001b[0m, in \u001b[0;36mBaseWindow._apply\u001b[0;34m(self, func, name, numeric_only, numba_args, **kwargs)\u001b[0m\n\u001b[1;32m    612\u001b[0m     \u001b[39mreturn\u001b[39;00m result\n\u001b[1;32m    614\u001b[0m \u001b[39mif\u001b[39;00m \u001b[39mself\u001b[39m\u001b[39m.\u001b[39mmethod \u001b[39m==\u001b[39m \u001b[39m\"\u001b[39m\u001b[39msingle\u001b[39m\u001b[39m\"\u001b[39m:\n\u001b[0;32m--> 615\u001b[0m     \u001b[39mreturn\u001b[39;00m \u001b[39mself\u001b[39;49m\u001b[39m.\u001b[39;49m_apply_blockwise(homogeneous_func, name, numeric_only)\n\u001b[1;32m    616\u001b[0m \u001b[39melse\u001b[39;00m:\n\u001b[1;32m    617\u001b[0m     \u001b[39mreturn\u001b[39;00m \u001b[39mself\u001b[39m\u001b[39m.\u001b[39m_apply_tablewise(homogeneous_func, name, numeric_only)\n",
      "File \u001b[0;32m~/Documents/Trading/freqtrade/.env/lib/python3.11/site-packages/pandas/core/window/rolling.py:468\u001b[0m, in \u001b[0;36mBaseWindow._apply_blockwise\u001b[0;34m(self, homogeneous_func, name, numeric_only)\u001b[0m\n\u001b[1;32m    466\u001b[0m \u001b[39mself\u001b[39m\u001b[39m.\u001b[39m_validate_numeric_only(name, numeric_only)\n\u001b[1;32m    467\u001b[0m \u001b[39mif\u001b[39;00m \u001b[39mself\u001b[39m\u001b[39m.\u001b[39m_selected_obj\u001b[39m.\u001b[39mndim \u001b[39m==\u001b[39m \u001b[39m1\u001b[39m:\n\u001b[0;32m--> 468\u001b[0m     \u001b[39mreturn\u001b[39;00m \u001b[39mself\u001b[39;49m\u001b[39m.\u001b[39;49m_apply_series(homogeneous_func, name)\n\u001b[1;32m    470\u001b[0m obj \u001b[39m=\u001b[39m \u001b[39mself\u001b[39m\u001b[39m.\u001b[39m_create_data(\u001b[39mself\u001b[39m\u001b[39m.\u001b[39m_selected_obj, numeric_only)\n\u001b[1;32m    471\u001b[0m \u001b[39mif\u001b[39;00m name \u001b[39m==\u001b[39m \u001b[39m\"\u001b[39m\u001b[39mcount\u001b[39m\u001b[39m\"\u001b[39m:\n\u001b[1;32m    472\u001b[0m     \u001b[39m# GH 12541: Special case for count where we support date-like types\u001b[39;00m\n",
      "File \u001b[0;32m~/Documents/Trading/freqtrade/.env/lib/python3.11/site-packages/pandas/core/window/rolling.py:452\u001b[0m, in \u001b[0;36mBaseWindow._apply_series\u001b[0;34m(self, homogeneous_func, name)\u001b[0m\n\u001b[1;32m    449\u001b[0m \u001b[39mexcept\u001b[39;00m (\u001b[39mTypeError\u001b[39;00m, \u001b[39mNotImplementedError\u001b[39;00m) \u001b[39mas\u001b[39;00m err:\n\u001b[1;32m    450\u001b[0m     \u001b[39mraise\u001b[39;00m DataError(\u001b[39m\"\u001b[39m\u001b[39mNo numeric types to aggregate\u001b[39m\u001b[39m\"\u001b[39m) \u001b[39mfrom\u001b[39;00m \u001b[39merr\u001b[39;00m\n\u001b[0;32m--> 452\u001b[0m result \u001b[39m=\u001b[39m homogeneous_func(values)\n\u001b[1;32m    453\u001b[0m index \u001b[39m=\u001b[39m \u001b[39mself\u001b[39m\u001b[39m.\u001b[39m_slice_axis_for_step(obj\u001b[39m.\u001b[39mindex, result)\n\u001b[1;32m    454\u001b[0m \u001b[39mreturn\u001b[39;00m obj\u001b[39m.\u001b[39m_constructor(result, index\u001b[39m=\u001b[39mindex, name\u001b[39m=\u001b[39mobj\u001b[39m.\u001b[39mname)\n",
      "File \u001b[0;32m~/Documents/Trading/freqtrade/.env/lib/python3.11/site-packages/pandas/core/window/rolling.py:610\u001b[0m, in \u001b[0;36mBaseWindow._apply.<locals>.homogeneous_func\u001b[0;34m(values)\u001b[0m\n\u001b[1;32m    607\u001b[0m     \u001b[39mreturn\u001b[39;00m func(x, start, end, min_periods, \u001b[39m*\u001b[39mnumba_args)\n\u001b[1;32m    609\u001b[0m \u001b[39mwith\u001b[39;00m np\u001b[39m.\u001b[39merrstate(\u001b[39mall\u001b[39m\u001b[39m=\u001b[39m\u001b[39m\"\u001b[39m\u001b[39mignore\u001b[39m\u001b[39m\"\u001b[39m):\n\u001b[0;32m--> 610\u001b[0m     result \u001b[39m=\u001b[39m calc(values)\n\u001b[1;32m    612\u001b[0m \u001b[39mreturn\u001b[39;00m result\n",
      "File \u001b[0;32m~/Documents/Trading/freqtrade/.env/lib/python3.11/site-packages/pandas/core/window/rolling.py:607\u001b[0m, in \u001b[0;36mBaseWindow._apply.<locals>.homogeneous_func.<locals>.calc\u001b[0;34m(x)\u001b[0m\n\u001b[1;32m    598\u001b[0m start, end \u001b[39m=\u001b[39m window_indexer\u001b[39m.\u001b[39mget_window_bounds(\n\u001b[1;32m    599\u001b[0m     num_values\u001b[39m=\u001b[39m\u001b[39mlen\u001b[39m(x),\n\u001b[1;32m    600\u001b[0m     min_periods\u001b[39m=\u001b[39mmin_periods,\n\u001b[0;32m   (...)\u001b[0m\n\u001b[1;32m    603\u001b[0m     step\u001b[39m=\u001b[39m\u001b[39mself\u001b[39m\u001b[39m.\u001b[39mstep,\n\u001b[1;32m    604\u001b[0m )\n\u001b[1;32m    605\u001b[0m \u001b[39mself\u001b[39m\u001b[39m.\u001b[39m_check_window_bounds(start, end, \u001b[39mlen\u001b[39m(x))\n\u001b[0;32m--> 607\u001b[0m \u001b[39mreturn\u001b[39;00m func(x, start, end, min_periods, \u001b[39m*\u001b[39;49mnumba_args)\n",
      "File \u001b[0;32m~/Documents/Trading/freqtrade/.env/lib/python3.11/site-packages/pandas/core/window/rolling.py:1417\u001b[0m, in \u001b[0;36mRollingAndExpandingMixin._generate_cython_apply_func.<locals>.apply_func\u001b[0;34m(values, begin, end, min_periods, raw)\u001b[0m\n\u001b[1;32m   1414\u001b[0m \u001b[39mif\u001b[39;00m \u001b[39mnot\u001b[39;00m raw:\n\u001b[1;32m   1415\u001b[0m     \u001b[39m# GH 45912\u001b[39;00m\n\u001b[1;32m   1416\u001b[0m     values \u001b[39m=\u001b[39m Series(values, index\u001b[39m=\u001b[39m\u001b[39mself\u001b[39m\u001b[39m.\u001b[39m_on, copy\u001b[39m=\u001b[39m\u001b[39mFalse\u001b[39;00m)\n\u001b[0;32m-> 1417\u001b[0m \u001b[39mreturn\u001b[39;00m window_func(values, begin, end, min_periods)\n",
      "File \u001b[0;32m~/Documents/Trading/freqtrade/.env/lib/python3.11/site-packages/pandas/_libs/window/aggregations.pyx:1423\u001b[0m, in \u001b[0;36mpandas._libs.window.aggregations.roll_apply\u001b[0;34m()\u001b[0m\n",
      "Cell \u001b[0;32mIn[32], line 21\u001b[0m, in \u001b[0;36m<lambda>\u001b[0;34m(x)\u001b[0m\n\u001b[1;32m     14\u001b[0m rolling_vwmean \u001b[39m=\u001b[39m (candles[\u001b[39m'\u001b[39m\u001b[39mclose\u001b[39m\u001b[39m'\u001b[39m] \u001b[39m*\u001b[39m candles[\u001b[39m'\u001b[39m\u001b[39mvolume\u001b[39m\u001b[39m'\u001b[39m])\u001b[39m.\u001b[39mrolling(window\u001b[39m=\u001b[39m\u001b[39m60\u001b[39m)\u001b[39m.\u001b[39msum() \u001b[39m/\u001b[39m candles[\u001b[39m'\u001b[39m\u001b[39mvolume\u001b[39m\u001b[39m'\u001b[39m]\u001b[39m.\u001b[39mrolling(window\u001b[39m=\u001b[39m\u001b[39m60\u001b[39m)\u001b[39m.\u001b[39msum()\n\u001b[1;32m     16\u001b[0m rolling_vwap_std \u001b[39m=\u001b[39m candles[\u001b[39m'\u001b[39m\u001b[39mclose\u001b[39m\u001b[39m'\u001b[39m]\u001b[39m.\u001b[39mrolling(window\u001b[39m=\u001b[39m\u001b[39m60\u001b[39m)\u001b[39m.\u001b[39mapply(\n\u001b[1;32m     17\u001b[0m     \u001b[39mlambda\u001b[39;00m x: np\u001b[39m.\u001b[39msqrt(np\u001b[39m.\u001b[39maverage((x \u001b[39m-\u001b[39m np\u001b[39m.\u001b[39maverage(x, weights\u001b[39m=\u001b[39mcandles\u001b[39m.\u001b[39mloc[x\u001b[39m.\u001b[39mindex, \u001b[39m'\u001b[39m\u001b[39mvolume\u001b[39m\u001b[39m'\u001b[39m]))\u001b[39m*\u001b[39m\u001b[39m*\u001b[39m\u001b[39m2\u001b[39m, weights\u001b[39m=\u001b[39mcandles\u001b[39m.\u001b[39mloc[x\u001b[39m.\u001b[39mindex, \u001b[39m'\u001b[39m\u001b[39mvolume\u001b[39m\u001b[39m'\u001b[39m]))\n\u001b[1;32m     18\u001b[0m )\n\u001b[1;32m     20\u001b[0m rolling_vwap_av_std \u001b[39m=\u001b[39m candles[\u001b[39m'\u001b[39m\u001b[39mclose\u001b[39m\u001b[39m'\u001b[39m]\u001b[39m.\u001b[39mrolling(window\u001b[39m=\u001b[39m\u001b[39m60\u001b[39m)\u001b[39m.\u001b[39mapply(\n\u001b[0;32m---> 21\u001b[0m     \u001b[39mlambda\u001b[39;00m x: np\u001b[39m.\u001b[39;49maverage(np\u001b[39m.\u001b[39;49mabs(x \u001b[39m-\u001b[39;49m rolling_vwmean), weights\u001b[39m=\u001b[39;49mcandles\u001b[39m.\u001b[39;49mloc[x\u001b[39m.\u001b[39;49mindex, \u001b[39m'\u001b[39;49m\u001b[39mvolume\u001b[39;49m\u001b[39m'\u001b[39;49m], axis\u001b[39m=\u001b[39;49m\u001b[39m0\u001b[39;49m)\n\u001b[1;32m     22\u001b[0m )\n\u001b[1;32m     24\u001b[0m candles[\u001b[39m'\u001b[39m\u001b[39mvwmean\u001b[39m\u001b[39m'\u001b[39m] \u001b[39m=\u001b[39m rolling_vwmean\n\u001b[1;32m     25\u001b[0m candles[\u001b[39m'\u001b[39m\u001b[39mvwstdev\u001b[39m\u001b[39m'\u001b[39m] \u001b[39m=\u001b[39m rolling_vwap_std\n",
      "File \u001b[0;32m<__array_function__ internals>:200\u001b[0m, in \u001b[0;36maverage\u001b[0;34m(*args, **kwargs)\u001b[0m\n",
      "File \u001b[0;32m~/Documents/Trading/freqtrade/.env/lib/python3.11/site-packages/numpy/lib/function_base.py:539\u001b[0m, in \u001b[0;36maverage\u001b[0;34m(a, axis, weights, returned, keepdims)\u001b[0m\n\u001b[1;32m    536\u001b[0m     \u001b[39mraise\u001b[39;00m \u001b[39mTypeError\u001b[39;00m(\n\u001b[1;32m    537\u001b[0m         \u001b[39m\"\u001b[39m\u001b[39m1D weights expected when shapes of a and weights differ.\u001b[39m\u001b[39m\"\u001b[39m)\n\u001b[1;32m    538\u001b[0m \u001b[39mif\u001b[39;00m wgt\u001b[39m.\u001b[39mshape[\u001b[39m0\u001b[39m] \u001b[39m!=\u001b[39m a\u001b[39m.\u001b[39mshape[axis]:\n\u001b[0;32m--> 539\u001b[0m     \u001b[39mraise\u001b[39;00m \u001b[39mValueError\u001b[39;00m(\n\u001b[1;32m    540\u001b[0m         \u001b[39m\"\u001b[39m\u001b[39mLength of weights not compatible with specified axis.\u001b[39m\u001b[39m\"\u001b[39m)\n\u001b[1;32m    542\u001b[0m \u001b[39m# setup wgt to broadcast along axis\u001b[39;00m\n\u001b[1;32m    543\u001b[0m wgt \u001b[39m=\u001b[39m np\u001b[39m.\u001b[39mbroadcast_to(wgt, (a\u001b[39m.\u001b[39mndim\u001b[39m-\u001b[39m\u001b[39m1\u001b[39m)\u001b[39m*\u001b[39m(\u001b[39m1\u001b[39m,) \u001b[39m+\u001b[39m wgt\u001b[39m.\u001b[39mshape)\n",
      "\u001b[0;31mValueError\u001b[0m: Length of weights not compatible with specified axis."
     ]
    }
   ],
   "source": [
    "vwap_length = 60\n",
    "vwap_source = 'close'\n",
    "\n",
    "\n",
    "# num_rows, num_cols = dfRange.shape\n",
    "# print(num_rows, num_cols)\n",
    "\n",
    "# candles['vwmean'] = (candles[vwap_source] * candles['volume']).rolling(window=vwap_length).sum()/candles['volume'].rolling(window=vwap_length).sum()\n",
    "\n",
    "# Calculate the rolling volume-weighted mean\n",
    "# rolling_vwmean = candles['close'].rolling(window=60).apply(\n",
    "#     lambda x: np.average(x, weights=candles.loc[x.index, 'volume'])\n",
    "# )\n",
    "rolling_vwmean = (candles['close'] * candles['volume']).rolling(window=60).sum() / candles['volume'].rolling(window=60).sum()\n",
    "\n",
    "rolling_vwap_std = candles['close'].rolling(window=60).apply(\n",
    "    lambda x: np.sqrt(np.average((x - np.average(x, weights=candles.loc[x.index, 'volume']))**2, weights=candles.loc[x.index, 'volume']))\n",
    ")\n",
    "\n",
    "rolling_vwap_av_std = candles['close'].rolling(window=60).apply(\n",
    "    lambda x: np.average(np.abs((x - np.average(x, weights=candles.loc[x.index, 'volume']))), weights=candles.loc[x.index, 'volume'])\n",
    ")\n",
    "\n",
    "candles['vwmean'] = rolling_vwmean\n",
    "candles['vwstdev'] = rolling_vwap_std\n",
    "candles['vwavdev'] = rolling_vwap_av_std\n",
    "\n",
    "candles['upper_dev'] = candles['vwmean'] + candles['vwstdev'] * 2\n",
    "candles['lower_dev'] = candles['vwmean'] - candles['vwstdev'] * 2\n",
    "# candles['vwstdev'] = np.sqrt((candles['volume'] * pow((candles['close'] - candles['vwmean']), 2)).rolling(window=vwap_length).sum()/candles['volume'].rolling(window=vwap_length).sum())\n",
    "# candles['vwavdev'] = (candles['volume'] * (candles['close'] - candles['vwmean']).abs()).rolling(window=vwap_length).sum()/candles['volume'].rolling(window=vwap_length).sum()\n",
    "\n",
    "# candles['pow'] = candles['volume'] * np.power((candles[vwap_source] - candles['vwmean']), 2)\n",
    "\n",
    "candles.tail()"
   ]
  },
  {
   "attachments": {},
   "cell_type": "markdown",
   "metadata": {},
   "source": [
    "## Load and run strategy\n",
    "* Rerun each time the strategy file is changed"
   ]
  },
  {
   "cell_type": "code",
   "execution_count": null,
   "metadata": {},
   "outputs": [],
   "source": [
    "# Load strategy using values set above\n",
    "from freqtrade.resolvers import StrategyResolver\n",
    "from freqtrade.data.dataprovider import DataProvider\n",
    "strategy = StrategyResolver.load_strategy(config)\n",
    "strategy.dp = DataProvider(config, None, None)\n",
    "strategy.ft_bot_start()\n",
    "\n",
    "# Generate buy/sell signals using strategy\n",
    "df = strategy.analyze_ticker(candles, {'pair': pair})\n",
    "df.tail()"
   ]
  },
  {
   "attachments": {},
   "cell_type": "markdown",
   "metadata": {},
   "source": [
    "### Display the trade details\n",
    "\n",
    "* Note that using `data.head()` would also work, however most indicators have some \"startup\" data at the top of the dataframe.\n",
    "* Some possible problems\n",
    "    * Columns with NaN values at the end of the dataframe\n",
    "    * Columns used in `crossed*()` functions with completely different units\n",
    "* Comparison with full backtest\n",
    "    * having 200 buy signals as output for one pair from `analyze_ticker()` does not necessarily mean that 200 trades will be made during backtesting.\n",
    "    * Assuming you use only one condition such as, `df['rsi'] < 30` as buy condition, this will generate multiple \"buy\" signals for each pair in sequence (until rsi returns > 29). The bot will only buy on the first of these signals (and also only if a trade-slot (\"max_open_trades\") is still available), or on one of the middle signals, as soon as a \"slot\" becomes available.  \n"
   ]
  },
  {
   "cell_type": "code",
   "execution_count": null,
   "metadata": {},
   "outputs": [],
   "source": [
    "# Report results\n",
    "print(f\"Generated {df['enter_long'].sum()} entry signals\")\n",
    "data = df.set_index('date', drop=False)\n",
    "data.tail()"
   ]
  },
  {
   "attachments": {},
   "cell_type": "markdown",
   "metadata": {},
   "source": [
    "## Load existing objects into a Jupyter notebook\n",
    "\n",
    "The following cells assume that you have already generated data using the cli.  \n",
    "They will allow you to drill deeper into your results, and perform analysis which otherwise would make the output very difficult to digest due to information overload."
   ]
  },
  {
   "attachments": {},
   "cell_type": "markdown",
   "metadata": {},
   "source": [
    "### Load backtest results to pandas dataframe\n",
    "\n",
    "Analyze a trades dataframe (also used below for plotting)"
   ]
  },
  {
   "cell_type": "code",
   "execution_count": null,
   "metadata": {},
   "outputs": [],
   "source": [
    "from freqtrade.data.btanalysis import load_backtest_data, load_backtest_stats\n",
    "\n",
    "# if backtest_dir points to a directory, it'll automatically load the last backtest file.\n",
    "backtest_dir = config[\"user_data_dir\"] / \"backtest_results\"\n",
    "# backtest_dir can also point to a specific file \n",
    "# backtest_dir = config[\"user_data_dir\"] / \"backtest_results/backtest-result-2020-07-01_20-04-22.json\""
   ]
  },
  {
   "cell_type": "code",
   "execution_count": null,
   "metadata": {},
   "outputs": [],
   "source": [
    "# You can get the full backtest statistics by using the following command.\n",
    "# This contains all information used to generate the backtest result.\n",
    "stats = load_backtest_stats(backtest_dir)\n",
    "\n",
    "strategy = 'SampleStrategy'\n",
    "# All statistics are available per strategy, so if `--strategy-list` was used during backtest, this will be reflected here as well.\n",
    "# Example usages:\n",
    "print(stats['strategy'][strategy]['results_per_pair'])\n",
    "# Get pairlist used for this backtest\n",
    "print(stats['strategy'][strategy]['pairlist'])\n",
    "# Get market change (average change of all pairs from start to end of the backtest period)\n",
    "print(stats['strategy'][strategy]['market_change'])\n",
    "# Maximum drawdown ()\n",
    "print(stats['strategy'][strategy]['max_drawdown'])\n",
    "# Maximum drawdown start and end\n",
    "print(stats['strategy'][strategy]['drawdown_start'])\n",
    "print(stats['strategy'][strategy]['drawdown_end'])\n",
    "\n",
    "\n",
    "# Get strategy comparison (only relevant if multiple strategies were compared)\n",
    "print(stats['strategy_comparison'])\n"
   ]
  },
  {
   "cell_type": "code",
   "execution_count": null,
   "metadata": {},
   "outputs": [],
   "source": [
    "# Load backtested trades as dataframe\n",
    "trades = load_backtest_data(backtest_dir)\n",
    "\n",
    "# Show value-counts per pair\n",
    "trades.groupby(\"pair\")[\"exit_reason\"].value_counts()"
   ]
  },
  {
   "attachments": {},
   "cell_type": "markdown",
   "metadata": {},
   "source": [
    "## Plotting daily profit / equity line"
   ]
  },
  {
   "cell_type": "code",
   "execution_count": null,
   "metadata": {},
   "outputs": [],
   "source": [
    "# Plotting equity line (starting with 0 on day 1 and adding daily profit for each backtested day)\n",
    "\n",
    "from freqtrade.configuration import Configuration\n",
    "from freqtrade.data.btanalysis import load_backtest_data, load_backtest_stats\n",
    "import plotly.express as px\n",
    "import pandas as pd\n",
    "\n",
    "# strategy = 'SampleStrategy'\n",
    "# config = Configuration.from_files([\"user_data/config.json\"])\n",
    "# backtest_dir = config[\"user_data_dir\"] / \"backtest_results\"\n",
    "\n",
    "stats = load_backtest_stats(backtest_dir)\n",
    "strategy_stats = stats['strategy'][strategy]\n",
    "\n",
    "dates = []\n",
    "profits = []\n",
    "for date_profit in strategy_stats['daily_profit']:\n",
    "    dates.append(date_profit[0])\n",
    "    profits.append(date_profit[1])\n",
    "\n",
    "equity = 0\n",
    "equity_daily = []\n",
    "for daily_profit in profits:\n",
    "    equity_daily.append(equity)\n",
    "    equity += float(daily_profit)\n",
    "\n",
    "\n",
    "df = pd.DataFrame({'dates': dates,'equity_daily': equity_daily})\n",
    "\n",
    "fig = px.line(df, x=\"dates\", y=\"equity_daily\")\n",
    "fig.show()\n"
   ]
  },
  {
   "attachments": {},
   "cell_type": "markdown",
   "metadata": {},
   "source": [
    "### Load live trading results into a pandas dataframe\n",
    "\n",
    "In case you did already some trading and want to analyze your performance"
   ]
  },
  {
   "cell_type": "code",
   "execution_count": null,
   "metadata": {},
   "outputs": [],
   "source": [
    "from freqtrade.data.btanalysis import load_trades_from_db\n",
    "\n",
    "# Fetch trades from database\n",
    "trades = load_trades_from_db(\"sqlite:///tradesv3.sqlite\")\n",
    "\n",
    "# Display results\n",
    "trades.groupby(\"pair\")[\"exit_reason\"].value_counts()"
   ]
  },
  {
   "attachments": {},
   "cell_type": "markdown",
   "metadata": {},
   "source": [
    "## Analyze the loaded trades for trade parallelism\n",
    "This can be useful to find the best `max_open_trades` parameter, when used with backtesting in conjunction with `--disable-max-market-positions`.\n",
    "\n",
    "`analyze_trade_parallelism()` returns a timeseries dataframe with an \"open_trades\" column, specifying the number of open trades for each candle."
   ]
  },
  {
   "cell_type": "code",
   "execution_count": null,
   "metadata": {},
   "outputs": [],
   "source": [
    "from freqtrade.data.btanalysis import analyze_trade_parallelism\n",
    "\n",
    "# Analyze the above\n",
    "parallel_trades = analyze_trade_parallelism(trades, '5m')\n",
    "\n",
    "parallel_trades.plot()"
   ]
  },
  {
   "attachments": {},
   "cell_type": "markdown",
   "metadata": {},
   "source": [
    "## Plot results\n",
    "\n",
    "Freqtrade offers interactive plotting capabilities based on plotly."
   ]
  },
  {
   "cell_type": "code",
   "execution_count": null,
   "metadata": {},
   "outputs": [],
   "source": [
    "from freqtrade.plot.plotting import  generate_candlestick_graph\n",
    "# Limit graph period to keep plotly quick and reactive\n",
    "\n",
    "# Filter trades to one pair\n",
    "trades_red = trades.loc[trades['pair'] == pair]\n",
    "\n",
    "data_red = data['2019-06-01':'2019-06-10']\n",
    "# Generate candlestick graph\n",
    "graph = generate_candlestick_graph(pair=pair,\n",
    "                                   data=data_red,\n",
    "                                   trades=trades_red,\n",
    "                                   indicators1=['sma20', 'ema50', 'ema55'],\n",
    "                                   indicators2=['rsi', 'macd', 'macdsignal', 'macdhist']\n",
    "                                  )\n",
    "\n",
    "\n"
   ]
  },
  {
   "cell_type": "code",
   "execution_count": null,
   "metadata": {},
   "outputs": [],
   "source": [
    "# Show graph inline\n",
    "# graph.show()\n",
    "\n",
    "# Render graph in a separate window\n",
    "graph.show(renderer=\"browser\")\n"
   ]
  },
  {
   "attachments": {},
   "cell_type": "markdown",
   "metadata": {},
   "source": [
    "## Plot average profit per trade as distribution graph"
   ]
  },
  {
   "cell_type": "code",
   "execution_count": null,
   "metadata": {},
   "outputs": [],
   "source": [
    "import plotly.figure_factory as ff\n",
    "\n",
    "hist_data = [trades.profit_ratio]\n",
    "group_labels = ['profit_ratio']  # name of the dataset\n",
    "\n",
    "fig = ff.create_distplot(hist_data, group_labels, bin_size=0.01)\n",
    "fig.show()\n"
   ]
  },
  {
   "attachments": {},
   "cell_type": "markdown",
   "metadata": {},
   "source": [
    "Feel free to submit an issue or Pull Request enhancing this document if you would like to share ideas on how to best analyze the data."
   ]
  }
 ],
 "metadata": {
  "file_extension": ".py",
  "kernelspec": {
   "display_name": "Python 3.9.7 64-bit",
   "language": "python",
   "name": "python3"
  },
  "language_info": {
   "codemirror_mode": {
    "name": "ipython",
    "version": 3
   },
   "file_extension": ".py",
   "mimetype": "text/x-python",
   "name": "python",
   "nbconvert_exporter": "python",
   "pygments_lexer": "ipython3",
   "version": "3.11.2"
  },
  "mimetype": "text/x-python",
  "name": "python",
  "npconvert_exporter": "python",
  "pygments_lexer": "ipython3",
  "toc": {
   "base_numbering": 1,
   "nav_menu": {},
   "number_sections": true,
   "sideBar": true,
   "skip_h1_title": false,
   "title_cell": "Table of Contents",
   "title_sidebar": "Contents",
   "toc_cell": false,
   "toc_position": {},
   "toc_section_display": true,
   "toc_window_display": false
  },
  "varInspector": {
   "cols": {
    "lenName": 16,
    "lenType": 16,
    "lenVar": 40
   },
   "kernels_config": {
    "python": {
     "delete_cmd_postfix": "",
     "delete_cmd_prefix": "del ",
     "library": "var_list.py",
     "varRefreshCmd": "print(var_dic_list())"
    },
    "r": {
     "delete_cmd_postfix": ") ",
     "delete_cmd_prefix": "rm(",
     "library": "var_list.r",
     "varRefreshCmd": "cat(var_dic_list()) "
    }
   },
   "types_to_exclude": [
    "module",
    "function",
    "builtin_function_or_method",
    "instance",
    "_Feature"
   ],
   "window_display": false
  },
  "version": 3,
  "vscode": {
   "interpreter": {
    "hash": "675f32a300d6d26767470181ad0b11dd4676bcce7ed1dd2ffe2fbc370c95fc7c"
   }
  }
 },
 "nbformat": 4,
 "nbformat_minor": 4
}
